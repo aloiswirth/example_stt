{
 "cells": [
  {
   "cell_type": "markdown",
   "metadata": {},
   "source": [
    "# Speech Recognition with SpeechRecognition\n",
    "\n",
    "we use the library SpeechRecognition to analyze its capabilities\n",
    "\n",
    "pip install SpeechRecognition"
   ]
  },
  {
   "cell_type": "code",
   "execution_count": 3,
   "metadata": {},
   "outputs": [],
   "source": [
    "import speech_recognition as sr\n",
    "import datetime"
   ]
  },
  {
   "cell_type": "code",
   "execution_count": 4,
   "metadata": {},
   "outputs": [],
   "source": [
    "\n",
    "# Initialize the recognizer\n",
    "recognizer = sr.Recognizer()\n",
    "\n",
    "# Open the audio file (replace with your file path)\n",
    "audio_file_path = \"./audio_german.wav\"\n",
    "with sr.AudioFile(audio_file_path) as source:\n",
    "    audio_data = recognizer.record(source)"
   ]
  },
  {
   "cell_type": "code",
   "execution_count": 5,
   "metadata": {},
   "outputs": [
    {
     "name": "stdout",
     "output_type": "stream",
     "text": [
      "2024-03-11 18:41:07.838790\n",
      "Could not understand audio.\n",
      "2024-03-11 18:41:12.140551\n"
     ]
    }
   ],
   "source": [
    "\n",
    "# Recognize the speech\n",
    "print(datetime.datetime.now())\n",
    "try:\n",
    "    text = recognizer.recognize_google(audio_data)\n",
    "    print(f\"Transcribed text: {text}\")\n",
    "except sr.UnknownValueError:\n",
    "    print(\"Could not understand audio.\")\n",
    "\n",
    "print(datetime.datetime.now())"
   ]
  },
  {
   "cell_type": "markdown",
   "metadata": {},
   "source": [
    "A first result with an english text of 17 seconds is: \n",
    "\n",
    "2024-03-11 18:26:24.767366  \n",
    "Transcribed text: let us explore some basic examples of speech to text conversion in Python there are a few libraries and tools you can use to achieve this I'll provide examples using two popular options speed recognition and open AIS West  \n",
    "2024-03-11 18:26:30.220726  \n",
    "Duration 5.5 seconds and three errors:  \n",
    "- speed instead of speech\n",
    "- open AIS instead of OpenAI's\n",
    "- West instead of Whisper\n",
    "\n",
    "\n",
    "The German text was not understood!!!! \n"
   ]
  },
  {
   "cell_type": "markdown",
   "metadata": {},
   "source": []
  }
 ],
 "metadata": {
  "kernelspec": {
   "display_name": ".venv",
   "language": "python",
   "name": "python3"
  },
  "language_info": {
   "codemirror_mode": {
    "name": "ipython",
    "version": 3
   },
   "file_extension": ".py",
   "mimetype": "text/x-python",
   "name": "python",
   "nbconvert_exporter": "python",
   "pygments_lexer": "ipython3",
   "version": "3.12.2"
  }
 },
 "nbformat": 4,
 "nbformat_minor": 2
}
