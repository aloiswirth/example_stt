{
 "cells": [
  {
   "cell_type": "code",
   "execution_count": 1,
   "metadata": {},
   "outputs": [],
   "source": [
    "import openai\n",
    "import datetime\n",
    "import os"
   ]
  },
  {
   "cell_type": "code",
   "execution_count": 2,
   "metadata": {},
   "outputs": [],
   "source": [
    "\n",
    "\n",
    "# Initialize the OpenAI client with your API key\n",
    "openai.api_key = os.getenv('OPENAI_API_KEY')\n",
    "\n",
    "# Open the audio file (replace with your file path)\n",
    "audio_file_path = \"./audio_english.wav\"\n"
   ]
  },
  {
   "cell_type": "markdown",
   "metadata": {},
   "source": []
  },
  {
   "cell_type": "markdown",
   "metadata": {},
   "source": [
    "pip install git+https://github.com/openai/whisper.git\n",
    "\n",
    "sudo apt update && sudo apt install ffmpeg\n"
   ]
  },
  {
   "cell_type": "code",
   "execution_count": 3,
   "metadata": {},
   "outputs": [
    {
     "name": "stdout",
     "output_type": "stream",
     "text": [
      "2024-03-22 16:51:16.504016\n"
     ]
    },
    {
     "name": "stdout",
     "output_type": "stream",
     "text": [
      "Detecting language using up to the first 30 seconds. Use `--language` to specify the language\n",
      "Detected language: English\n",
      "[00:00.000 --> 00:05.120]  Let us explore some basic examples of speech-to-text conversion in Python.\n",
      "[00:05.760 --> 00:10.240]  There are a few libraries and tools you can use to achieve this.\n",
      "[00:10.240 --> 00:14.080]  I'll provide examples using two popular options,\n",
      "[00:14.080 --> 00:17.360]  speech recognition and OpenAI's whisper.\n",
      "2024-03-22 16:51:26.169816\n"
     ]
    }
   ],
   "source": [
    "print(datetime.datetime.now())\n",
    "!whisper \"audio_english.wav\"\n",
    "print(datetime.datetime.now())  \n",
    "\n"
   ]
  },
  {
   "cell_type": "code",
   "execution_count": 4,
   "metadata": {},
   "outputs": [
    {
     "name": "stdout",
     "output_type": "stream",
     "text": [
      "2024-03-22 16:51:26.177765\n"
     ]
    },
    {
     "name": "stdout",
     "output_type": "stream",
     "text": [
      "[00:00.000 --> 00:06.440]  Während der US-Hersteller Boeing wegen massiver Sicherheitsmängel in die Krise stürzt, setzen\n",
      "[00:06.440 --> 00:11.320]  Airbus und der brasilianische Konkurrent Embraer zum Höhenflug an.\n",
      "[00:11.320 --> 00:13.840]  Was machen sie besser als der Erzrivale?\n",
      "2024-03-22 16:51:34.268948\n"
     ]
    }
   ],
   "source": [
    "print(datetime.datetime.now())\n",
    "!whisper \"audio_german.wav\" --language=de\n",
    "print(datetime.datetime.now())  "
   ]
  },
  {
   "cell_type": "markdown",
   "metadata": {},
   "source": [
    "REsult is kind of slow with 8 and 9 seconds, but text transcription is excellent.\n",
    "\n",
    "English:  \n",
    "2024-03-11 22:29:35.371744  \n",
    "Detecting language using up to the first 30 seconds. Use `--language` to specify the language  \n",
    "Detected language: English  \n",
    "[00:00.000 --> 00:05.120]  Let us explore some basic examples of speech-to-text conversion in Python.  \n",
    "[00:05.760 --> 00:10.240]  There are a few libraries and tools you can use to achieve this.  \n",
    "[00:10.240 --> 00:14.080]  I'll provide examples using two popular options,  \n",
    "[00:14.080 --> 00:17.360]  speech recognition and OpenAI's whisper.  \n",
    "2024-03-11 22:29:43.674290  \n",
    "\n",
    "German:\n",
    "2024-03-11 22:30:12.135949  \n",
    "[00:00.000 --> 00:06.440]  Während der US-Hersteller Boeing wegen massiver Sicherheitsmängel in die Krise stürzt, setzen  \n",
    "[00:06.440 --> 00:11.320]  Airbus und der brasilianische Konkurrent Embraer zum Höhenflug an.  \n",
    "[00:11.320 --> 00:13.840]  Was machen sie besser als der Erzrivale?  \n",
    "2024-03-11 22:30:20.313396  \n"
   ]
  }
 ],
 "metadata": {
  "kernelspec": {
   "display_name": ".venv",
   "language": "python",
   "name": "python3"
  },
  "language_info": {
   "codemirror_mode": {
    "name": "ipython",
    "version": 3
   },
   "file_extension": ".py",
   "mimetype": "text/x-python",
   "name": "python",
   "nbconvert_exporter": "python",
   "pygments_lexer": "ipython3",
   "version": "3.12.2"
  }
 },
 "nbformat": 4,
 "nbformat_minor": 2
}
